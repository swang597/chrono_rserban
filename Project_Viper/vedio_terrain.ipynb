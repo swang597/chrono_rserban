{
 "cells": [
  {
   "cell_type": "code",
   "execution_count": 16,
   "metadata": {},
   "outputs": [],
   "source": [
    "import numpy as np\n",
    "from PIL import Image\n",
    "import cv2\n",
    "import os\n",
    "import matplotlib.pyplot as plt\n",
    "import matplotlib.colors as mcolors\n"
   ]
  },
  {
   "cell_type": "code",
   "execution_count": 17,
   "metadata": {},
   "outputs": [],
   "source": [
    "def create_colored_heightmap(filename_txt, filename_img):\n",
    "    # Load the heightmap from the text file\n",
    "    heightmap = np.loadtxt(filename_txt)\n",
    "\n",
    "    # Define a color map - you can choose different color maps\n",
    "    # colormap = plt.cm.terrain  # Other options: plt.cm.jet, plt.cm.viridis, etc.\n",
    "\n",
    "    # Create the figure and axis for the plot\n",
    "    fig, ax = plt.subplots()\n",
    "\n",
    "    # Plot the heightmap with specified color range\n",
    "    cax = ax.imshow(heightmap, cmap='viridis',origin='lower', vmin=-0.02, vmax=0.1)\n",
    "    \n",
    "    # Optional: Add a color bar\n",
    "    fig.colorbar(cax)\n",
    "\n",
    "    # Save the figure\n",
    "    plt.savefig(filename_img)\n",
    "    plt.close(fig)"
   ]
  },
  {
   "cell_type": "code",
   "execution_count": 34,
   "metadata": {},
   "outputs": [
    {
     "data": {
      "text/plain": [
       "1"
      ]
     },
     "execution_count": 34,
     "metadata": {},
     "output_type": "execute_result"
    }
   ],
   "source": [
    "flag_loc"
   ]
  },
  {
   "cell_type": "code",
   "execution_count": 47,
   "metadata": {},
   "outputs": [
    {
     "name": "stdout",
     "output_type": "stream",
     "text": [
      "Video saved as video_HM_localCS_wheel0.mp4\n"
     ]
    }
   ],
   "source": [
    "# foldername = \"/home/swang597/Documents/Research/chrono_fork_radu/project_ML_force_test/build/DEMO_OUTPUT/SCM_FORCE_TEST/\"\n",
    "foldername = \"/home/swang597/Documents/Research/chrono_fork_radu/project_ML_force_test/build/DEMO_OUTPUT/SCM_FORCE_TEST_saveLocHM1/\"\n",
    "flag_loc = 1 #int(foldername[-2]) \n",
    "dt = 1e-3\n",
    "\n",
    "if flag_loc == 1:\n",
    "    img_folder = \"Img_localCS/\"\n",
    "else:\n",
    "    img_folder = \"Img_globalCS/\"\n",
    "if not os.path.exists(img_folder):\n",
    "    os.makedirs(img_folder)\n",
    "\n",
    "\n",
    "for iwheel in [0]: #range(4):\n",
    "    # Step 1: Convert Text Files to Images\n",
    "    image_files = []\n",
    "    for i in range(0,2000-10,10):\n",
    "        time = i * dt\n",
    "        # Read the heightmap data from text file\n",
    "        filename = f'hmap_wheel{iwheel}_Pat{time:.6f}_Tat{time:.6f}.txt'\n",
    "        file_path = foldername + filename  # Replace with your file naming scheme\n",
    "        image_file = img_folder + filename[:-4] + '.png'\n",
    "        create_colored_heightmap(file_path, image_file)\n",
    "        image_files.append(image_file)\n",
    "        \n",
    "        # #  Add Pat_cur, Tat_Next\n",
    "        # filename = f'hmap_wheel{iwheel}_Pat{time:.6f}_Tat{time+dt*10:.6f}.txt'\n",
    "        # file_path = foldername + filename  # Replace with your file naming scheme\n",
    "        # image_file = img_folder + filename[:-4] + '.png'\n",
    "        # create_colored_heightmap(file_path, image_file)\n",
    "        # image_files.append(image_file)\n",
    "\n",
    "    # Step 2: Compile Images into a Video\n",
    "    if flag_loc == 1:\n",
    "        video_name = f'video_HM_localCS_wheel{iwheel}.mp4'\n",
    "    else:\n",
    "        video_name = f'video_HM_globalCS_wheel{iwheel}.mp4'\n",
    "    frame = cv2.imread(image_files[0])\n",
    "    height, width, layers = frame.shape\n",
    "    video = cv2.VideoWriter(video_name, cv2.VideoWriter_fourcc(*'mp4v'), 10, (width, height))\n",
    "\n",
    "    for image in image_files:\n",
    "        video.write(cv2.imread(image))\n",
    "\n",
    "    cv2.destroyAllWindows()\n",
    "    video.release()\n",
    "    print(f'Video saved as {video_name}')"
   ]
  }
 ],
 "metadata": {
  "kernelspec": {
   "display_name": "pytorch_cuda12.1",
   "language": "python",
   "name": "python3"
  },
  "language_info": {
   "codemirror_mode": {
    "name": "ipython",
    "version": 3
   },
   "file_extension": ".py",
   "mimetype": "text/x-python",
   "name": "python",
   "nbconvert_exporter": "python",
   "pygments_lexer": "ipython3",
   "version": "3.9.18"
  }
 },
 "nbformat": 4,
 "nbformat_minor": 2
}
