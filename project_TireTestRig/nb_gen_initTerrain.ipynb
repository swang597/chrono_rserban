{
 "cells": [
  {
   "cell_type": "code",
   "execution_count": 31,
   "metadata": {},
   "outputs": [],
   "source": [
    "import os\n",
    "import numpy as np\n",
    "import matplotlib.pyplot as plt\n",
    "import matplotlib.colors as mcolors\n",
    "import random\n",
    "\n",
    "from datetime import date\n",
    "from joblib import dump\n",
    "\n",
    "np.random.seed(1)"
   ]
  },
  {
   "cell_type": "code",
   "execution_count": 32,
   "metadata": {},
   "outputs": [
    {
     "name": "stdout",
     "output_type": "stream",
     "text": [
      "wy, wx =  1000 3000\n"
     ]
    }
   ],
   "source": [
    "# Read data\n",
    "# folder = \"/home/swang597/Documents/Research/chrono_fork_radu/project_TireTestRig/build/DEMO_OUTPUT/TIRE_TEST_RIG_dt0.001000_grid0.005000/\"\n",
    "dt = 0.001\n",
    "terrain_grid = 0.001\n",
    "\n",
    "# Image dimensions\n",
    "wy, wx = int(5.0/terrain_grid), int(15.0/terrain_grid)\n",
    "print(\"wy, wx = \", wy, wx)"
   ]
  },
  {
   "cell_type": "code",
   "execution_count": 33,
   "metadata": {},
   "outputs": [],
   "source": [
    "import numpy as np\n",
    "from PIL import Image\n",
    "\n",
    "def add_bump(data, wx, wy, cx, cy, r, wx_change):\n",
    "    \"\"\"Adds a circular bump to the 2D data array\"\"\"\n",
    "    for x in range(cx - r, cx + r):\n",
    "        for y in range(cy - r, cy + r):\n",
    "            if x >= 0 and x < wy and y >= 0 and y < wx:\n",
    "                dx, dy = x - cx, y - cy\n",
    "                distance = dx**2 + dy**2\n",
    "                if distance <= r**2:\n",
    "                    data[y, x] += wx_change * (1 - (distance / r**2))\n",
    "\n",
    "\n",
    "# Initialize the data array with zeros (flat terrain)\n",
    "data = np.zeros((wx, wy), dtype=np.uint8)\n",
    "\n",
    "# Add random bumps\n",
    "num_bumps = wy * wx // 1000\n",
    "for _ in range(num_bumps):\n",
    "    # Random center of the bump\n",
    "    cx, cy = np.random.randint(0, wy), np.random.randint(0, wx)\n",
    "    # Random radius and wx change\n",
    "    radius = np.random.randint(5, 20)\n",
    "    wx_change = np.random.randint(5, 30)\n",
    "    add_bump(data, wx, wy, cx, cy, radius, wx_change)\n",
    "\n",
    "# Normalize the data to the 0-255 range\n",
    "data = data - data.min()\n",
    "data = (data / data.max()) * 255\n",
    "data = data.astype(np.uint8)\n",
    "\n",
    "# Create and save the image\n",
    "image = Image.fromarray(data, 'L')\n",
    "image.save('terrain_wxmap_bumpCircle.bmp', format='BMP')\n",
    "image.show()\n"
   ]
  },
  {
   "cell_type": "code",
   "execution_count": 34,
   "metadata": {},
   "outputs": [],
   "source": [
    "import numpy as np\n",
    "from PIL import Image\n",
    "\n",
    "def add_smooth_bump(data, height, width, cx, max_height_change, bump_width):\n",
    "    \"\"\"Adds a smooth vertical bump to the 2D data array\"\"\"\n",
    "    x = np.arange(width)\n",
    "    gaussian_bump = max_height_change * np.exp(-((x - cx)**2 / (2 * bump_width**2)))\n",
    "    data += gaussian_bump\n",
    "\n",
    "# Initialize the data array with zeros (flat terrain)\n",
    "data = np.zeros((height, width), dtype=np.float32)\n",
    "\n",
    "# Add random smooth bumps\n",
    "num_bumps = 50\n",
    "for _ in range(num_bumps):\n",
    "    # Random x-coordinate for the bump\n",
    "    cx = np.random.randint(0, width)\n",
    "    # Random maximum height change for the bump\n",
    "    max_height_change = np.random.uniform(0, 1)\n",
    "    # Random width of the bump\n",
    "    bump_width = np.random.uniform(1, 10)\n",
    "    add_smooth_bump(data, height, width, cx, max_height_change, bump_width)\n",
    "\n",
    "# Normalize the data to the 0-255 range\n",
    "data = data - data.min()\n",
    "data = (data / data.max()) * 255\n",
    "data = data.astype(np.uint8)\n",
    "\n",
    "# Create and save the image\n",
    "image = Image.fromarray(data, 'L')\n",
    "\n",
    "image.save('terrain_heightmap_bump_Xsmooth_Yinf.bmp', format='BMP')\n",
    "image.show()\n"
   ]
  },
  {
   "cell_type": "code",
   "execution_count": 39,
   "metadata": {},
   "outputs": [],
   "source": [
    "import numpy as np\n",
    "from PIL import Image\n",
    "\n",
    "def add_smooth_bump(data, wx, wy, cy, max_wx_change, bump_wy):\n",
    "    \"\"\"Adds a smooth horizontal bump to the 2D data array\"\"\"\n",
    "    y = np.arange(wx)\n",
    "    gaussian_bump = max_wx_change * np.exp(-((y - cy)**2 / (2 * bump_wy**2)))\n",
    "    data += gaussian_bump[:, np.newaxis]\n",
    "\n",
    "# Image dimensions\n",
    "terrain_grid = 5e-3\n",
    "wx, wy = 50.0, 1.0\n",
    "nwx, nwy = int(wx/terrain_grid), int(wy/terrain_grid)\n",
    "\n",
    "# Initialize the data array with zeros (flat terrain)\n",
    "data = np.zeros((nwx, nwy), dtype=np.float32)\n",
    "\n",
    "# Add random smooth bumps\n",
    "num_bumps = nwx//10\n",
    "for _ in range(num_bumps):\n",
    "    # Random y-coordinate for the bump\n",
    "    cy = np.random.randint(0, nwx)\n",
    "    # Random maximum height change for the bump\n",
    "    max_wx_change = np.random.uniform(5, 30)\n",
    "    # Random wy of the bump\n",
    "    bump_wy = np.random.uniform(5, 20)\n",
    "    add_smooth_bump(data, nwx, nwy, cy, max_wx_change, bump_wy)\n",
    "\n",
    "# Normalize the data to the 0-255 range\n",
    "data = data - data.min()\n",
    "data = (data / data.max()) * 255\n",
    "data = data.astype(np.uint8)\n",
    "\n",
    "# Create and save the image\n",
    "image = Image.fromarray(data, 'L').rotate(90, expand=True)\n",
    "image.save(f\"terrain_heightmap_smooth_horizontal_terrGrid{terrain_grid:.3f}_wx{wx:.0f}_wy{wy:.0f}.bmp\", format='BMP')\n",
    "image.show()"
   ]
  }
 ],
 "metadata": {
  "kernelspec": {
   "display_name": "CNN",
   "language": "python",
   "name": "python3"
  },
  "language_info": {
   "codemirror_mode": {
    "name": "ipython",
    "version": 3
   },
   "file_extension": ".py",
   "mimetype": "text/x-python",
   "name": "python",
   "nbconvert_exporter": "python",
   "pygments_lexer": "ipython3",
   "version": "3.9.18"
  },
  "orig_nbformat": 4
 },
 "nbformat": 4,
 "nbformat_minor": 2
}
