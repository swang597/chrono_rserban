{
 "cells": [
  {
   "cell_type": "code",
   "execution_count": 1,
   "metadata": {},
   "outputs": [],
   "source": [
    "import torch\n",
    "import numpy as np\n",
    "import math\n",
    "import gpytorch\n",
    "from matplotlib import pyplot as plt\n",
    "\n",
    "# Generating synthetic train_x with shape [100, 43]\n",
    "num_points = 100\n",
    "num_features = 43\n",
    "train_x = torch.rand(num_points, num_features)\n",
    "\n",
    "# Generating synthetic train_y with shape [100, 3]\n",
    "train_y = torch.stack([\n",
    "    torch.sin(2 * math.pi * train_x[:, 0]) + torch.randn(num_points) * 0.2,\n",
    "    torch.cos(2 * math.pi * train_x[:, 0]) + torch.randn(num_points) * 0.2,\n",
    "    torch.sin(4 * math.pi * train_x[:, 0]) + torch.randn(num_points) * 0.2,\n",
    "], -1)\n"
   ]
  },
  {
   "cell_type": "code",
   "execution_count": 10,
   "metadata": {},
   "outputs": [],
   "source": [
    "class MultitaskGPModel(gpytorch.models.ExactGP):\n",
    "    def __init__(self, train_x, train_y, likelihood):\n",
    "        super(MultitaskGPModel, self).__init__(train_x, train_y, likelihood)\n",
    "        self.mean_module = gpytorch.means.ConstantMean()\n",
    "        self.covar_module = gpytorch.kernels.ScaleKernel(\n",
    "            gpytorch.kernels.RBFKernel(ard_num_dims=num_features)\n",
    "        )\n",
    "        self.task_covar_module = gpytorch.kernels.IndexKernel(num_tasks=3, rank=1)\n",
    "\n",
    "    def forward(self, x):\n",
    "        print(\"x:\",x.shape)\n",
    "        mean_x = self.mean_module(x)\n",
    "        print(\"mean_x\",mean_x.shape)\n",
    "        covar_x = self.covar_module(x) * self.task_covar_module(x)\n",
    "        print(\"covar_x\",covar_x.shape)\n",
    "        return gpytorch.distributions.MultitaskMultivariateNormal(mean_x, covar_x)\n"
   ]
  },
  {
   "cell_type": "code",
   "execution_count": 12,
   "metadata": {},
   "outputs": [],
   "source": [
    "class MultitaskGPModel(gpytorch.models.ExactGP):\n",
    "    def __init__(self, train_x, train_y, likelihood):\n",
    "        super(MultitaskGPModel, self).__init__(train_x, train_y, likelihood)\n",
    "        self.mean_module = gpytorch.means.ConstantMean()\n",
    "        self.covar_module = gpytorch.kernels.ScaleKernel(\n",
    "            gpytorch.kernels.RBFKernel(ard_num_dims=train_x.size(-1))\n",
    "        )\n",
    "        # Multitask kernel for handling the tasks\n",
    "        self.task_covar_module = gpytorch.kernels.IndexKernel(num_tasks=3, rank=1)\n",
    "\n",
    "    def forward(self, x):\n",
    "        mean_x = self.mean_module(x)\n",
    "        # Ensure covar_x is combined with a task-specific kernel\n",
    "        covar_x = self.covar_module(x)\n",
    "        covar_task = self.task_covar_module(torch.zeros(x.size(0)))\n",
    "        return gpytorch.distributions.MultitaskMultivariateNormal(mean_x, covar_x + covar_task.covariance_matrix)\n"
   ]
  },
  {
   "cell_type": "code",
   "execution_count": 4,
   "metadata": {},
   "outputs": [],
   "source": [
    "class MultitaskGPModel(gpytorch.models.ExactGP):\n",
    "    def __init__(self, train_x, train_y, likelihood):\n",
    "        super(MultitaskGPModel, self).__init__(train_x, train_y, likelihood)\n",
    "        self.mean_module = gpytorch.means.ConstantMean()\n",
    "        self.covar_module = gpytorch.kernels.ScaleKernel(\n",
    "            gpytorch.kernels.RBFKernel(ard_num_dims=train_x.size(-1))\n",
    "        )\n",
    "        # Assuming num_tasks is defined (e.g., 3 for your case)\n",
    "        self.num_tasks = train_y.size(-1)\n",
    "\n",
    "    def forward(self, x):\n",
    "        mean_x = self.mean_module(x)\n",
    "        print(\"mean_x\",mean_x.shape)\n",
    "        # Replicate mean to match the number of tasks\n",
    "        mean_x = mean_x.expand(x.size(0), self.num_tasks)\n",
    "        print(\"mean_x\",mean_x.shape)\n",
    "        covar_x = self.covar_module(x)\n",
    "        print(\"covar_x\",covar_x.shape)\n",
    "        # Assuming you have a task_covar_module defined correctly to handle the multitask scenario\n",
    "        return gpytorch.distributions.MultitaskMultivariateNormal(mean_x, covar_x)\n"
   ]
  },
  {
   "cell_type": "code",
   "execution_count": 5,
   "metadata": {},
   "outputs": [
    {
     "name": "stdout",
     "output_type": "stream",
     "text": [
      "mean_x torch.Size([100])\n"
     ]
    },
    {
     "ename": "RuntimeError",
     "evalue": "The expanded size of the tensor (3) must match the existing size (100) at non-singleton dimension 1.  Target sizes: [100, 3].  Tensor sizes: [100]",
     "output_type": "error",
     "traceback": [
      "\u001b[0;31m---------------------------------------------------------------------------\u001b[0m",
      "\u001b[0;31mRuntimeError\u001b[0m                              Traceback (most recent call last)",
      "\u001b[1;32m/home/swang597/Documents/Research/chrono_fork_rserban/Project_TireTestRig/nb_train_NNF_GP_test_240226.ipynb Cell 5\u001b[0m line \u001b[0;36m2\n\u001b[1;32m     <a href='vscode-notebook-cell:/home/swang597/Documents/Research/chrono_fork_rserban/Project_TireTestRig/nb_train_NNF_GP_test_240226.ipynb#W2sZmlsZQ%3D%3D?line=18'>19</a>\u001b[0m \u001b[39mfor\u001b[39;00m i \u001b[39min\u001b[39;00m \u001b[39mrange\u001b[39m(\u001b[39m50\u001b[39m):  \u001b[39m# Adjust the number of iterations as needed\u001b[39;00m\n\u001b[1;32m     <a href='vscode-notebook-cell:/home/swang597/Documents/Research/chrono_fork_rserban/Project_TireTestRig/nb_train_NNF_GP_test_240226.ipynb#W2sZmlsZQ%3D%3D?line=19'>20</a>\u001b[0m     optimizer\u001b[39m.\u001b[39mzero_grad()\n\u001b[0;32m---> <a href='vscode-notebook-cell:/home/swang597/Documents/Research/chrono_fork_rserban/Project_TireTestRig/nb_train_NNF_GP_test_240226.ipynb#W2sZmlsZQ%3D%3D?line=20'>21</a>\u001b[0m     output \u001b[39m=\u001b[39m model(train_x)\n\u001b[1;32m     <a href='vscode-notebook-cell:/home/swang597/Documents/Research/chrono_fork_rserban/Project_TireTestRig/nb_train_NNF_GP_test_240226.ipynb#W2sZmlsZQ%3D%3D?line=21'>22</a>\u001b[0m     loss \u001b[39m=\u001b[39m \u001b[39m-\u001b[39mmll(output, train_y)\n\u001b[1;32m     <a href='vscode-notebook-cell:/home/swang597/Documents/Research/chrono_fork_rserban/Project_TireTestRig/nb_train_NNF_GP_test_240226.ipynb#W2sZmlsZQ%3D%3D?line=22'>23</a>\u001b[0m     loss\u001b[39m.\u001b[39mbackward()\n",
      "File \u001b[0;32m~/Documents/Package/anaconda3/envs/pytorch_cuda12.1/lib/python3.10/site-packages/gpytorch/models/exact_gp.py:268\u001b[0m, in \u001b[0;36mExactGP.__call__\u001b[0;34m(self, *args, **kwargs)\u001b[0m\n\u001b[1;32m    264\u001b[0m         \u001b[39mif\u001b[39;00m \u001b[39mnot\u001b[39;00m \u001b[39mall\u001b[39m(\n\u001b[1;32m    265\u001b[0m             torch\u001b[39m.\u001b[39mequal(train_input, \u001b[39minput\u001b[39m) \u001b[39mfor\u001b[39;00m train_input, \u001b[39minput\u001b[39m \u001b[39min\u001b[39;00m length_safe_zip(train_inputs, inputs)\n\u001b[1;32m    266\u001b[0m         ):\n\u001b[1;32m    267\u001b[0m             \u001b[39mraise\u001b[39;00m \u001b[39mRuntimeError\u001b[39;00m(\u001b[39m\"\u001b[39m\u001b[39mYou must train on the training inputs!\u001b[39m\u001b[39m\"\u001b[39m)\n\u001b[0;32m--> 268\u001b[0m     res \u001b[39m=\u001b[39m \u001b[39msuper\u001b[39;49m()\u001b[39m.\u001b[39;49m\u001b[39m__call__\u001b[39;49m(\u001b[39m*\u001b[39;49minputs, \u001b[39m*\u001b[39;49m\u001b[39m*\u001b[39;49mkwargs)\n\u001b[1;32m    269\u001b[0m     \u001b[39mreturn\u001b[39;00m res\n\u001b[1;32m    271\u001b[0m \u001b[39m# Prior mode\u001b[39;00m\n",
      "File \u001b[0;32m~/Documents/Package/anaconda3/envs/pytorch_cuda12.1/lib/python3.10/site-packages/gpytorch/module.py:31\u001b[0m, in \u001b[0;36mModule.__call__\u001b[0;34m(self, *inputs, **kwargs)\u001b[0m\n\u001b[1;32m     30\u001b[0m \u001b[39mdef\u001b[39;00m \u001b[39m__call__\u001b[39m(\u001b[39mself\u001b[39m, \u001b[39m*\u001b[39minputs, \u001b[39m*\u001b[39m\u001b[39m*\u001b[39mkwargs) \u001b[39m-\u001b[39m\u001b[39m>\u001b[39m Union[Tensor, Distribution, LinearOperator]:\n\u001b[0;32m---> 31\u001b[0m     outputs \u001b[39m=\u001b[39m \u001b[39mself\u001b[39;49m\u001b[39m.\u001b[39;49mforward(\u001b[39m*\u001b[39;49minputs, \u001b[39m*\u001b[39;49m\u001b[39m*\u001b[39;49mkwargs)\n\u001b[1;32m     32\u001b[0m     \u001b[39mif\u001b[39;00m \u001b[39misinstance\u001b[39m(outputs, \u001b[39mlist\u001b[39m):\n\u001b[1;32m     33\u001b[0m         \u001b[39mreturn\u001b[39;00m [_validate_module_outputs(output) \u001b[39mfor\u001b[39;00m output \u001b[39min\u001b[39;00m outputs]\n",
      "\u001b[1;32m/home/swang597/Documents/Research/chrono_fork_rserban/Project_TireTestRig/nb_train_NNF_GP_test_240226.ipynb Cell 5\u001b[0m line \u001b[0;36m1\n\u001b[1;32m     <a href='vscode-notebook-cell:/home/swang597/Documents/Research/chrono_fork_rserban/Project_TireTestRig/nb_train_NNF_GP_test_240226.ipynb#W2sZmlsZQ%3D%3D?line=12'>13</a>\u001b[0m \u001b[39mprint\u001b[39m(\u001b[39m\"\u001b[39m\u001b[39mmean_x\u001b[39m\u001b[39m\"\u001b[39m,mean_x\u001b[39m.\u001b[39mshape)\n\u001b[1;32m     <a href='vscode-notebook-cell:/home/swang597/Documents/Research/chrono_fork_rserban/Project_TireTestRig/nb_train_NNF_GP_test_240226.ipynb#W2sZmlsZQ%3D%3D?line=13'>14</a>\u001b[0m \u001b[39m# Replicate mean to match the number of tasks\u001b[39;00m\n\u001b[0;32m---> <a href='vscode-notebook-cell:/home/swang597/Documents/Research/chrono_fork_rserban/Project_TireTestRig/nb_train_NNF_GP_test_240226.ipynb#W2sZmlsZQ%3D%3D?line=14'>15</a>\u001b[0m mean_x \u001b[39m=\u001b[39m mean_x\u001b[39m.\u001b[39;49mexpand(x\u001b[39m.\u001b[39;49msize(\u001b[39m0\u001b[39;49m), \u001b[39mself\u001b[39;49m\u001b[39m.\u001b[39;49mnum_tasks)\n\u001b[1;32m     <a href='vscode-notebook-cell:/home/swang597/Documents/Research/chrono_fork_rserban/Project_TireTestRig/nb_train_NNF_GP_test_240226.ipynb#W2sZmlsZQ%3D%3D?line=15'>16</a>\u001b[0m \u001b[39mprint\u001b[39m(\u001b[39m\"\u001b[39m\u001b[39mmean_x\u001b[39m\u001b[39m\"\u001b[39m,mean_x\u001b[39m.\u001b[39mshape)\n\u001b[1;32m     <a href='vscode-notebook-cell:/home/swang597/Documents/Research/chrono_fork_rserban/Project_TireTestRig/nb_train_NNF_GP_test_240226.ipynb#W2sZmlsZQ%3D%3D?line=16'>17</a>\u001b[0m covar_x \u001b[39m=\u001b[39m \u001b[39mself\u001b[39m\u001b[39m.\u001b[39mcovar_module(x)\n",
      "\u001b[0;31mRuntimeError\u001b[0m: The expanded size of the tensor (3) must match the existing size (100) at non-singleton dimension 1.  Target sizes: [100, 3].  Tensor sizes: [100]"
     ]
    }
   ],
   "source": [
    "# Assume train_x and train_y are defined as above\n",
    "\n",
    "# Define the likelihood and model\n",
    "likelihood = gpytorch.likelihoods.MultitaskGaussianLikelihood(num_tasks=3)\n",
    "model = MultitaskGPModel(train_x, train_y, likelihood)\n",
    "\n",
    "# Training loop setup (as per your provided code)\n",
    "# Note: This code assumes the existence of a compatible MultitaskGPModel definition\n",
    "\n",
    "# Use the adam optimizer\n",
    "optimizer = torch.optim.Adam(model.parameters(), lr=0.1)\n",
    "\n",
    "# \"Loss\" for GPs - the marginal log likelihood\n",
    "mll = gpytorch.mlls.ExactMarginalLogLikelihood(likelihood, model)\n",
    "\n",
    "model.train()\n",
    "likelihood.train()\n",
    "\n",
    "for i in range(50):  # Adjust the number of iterations as needed\n",
    "    optimizer.zero_grad()\n",
    "    output = model(train_x)\n",
    "    loss = -mll(output, train_y)\n",
    "    loss.backward()\n",
    "    optimizer.step()\n",
    "\n",
    "    if i % 10 == 0:  # Print every 10 iterations\n",
    "        print(f'Iter {i + 1}/50 - Loss: {loss.item()}')\n",
    "\n",
    "# Switch to evaluation mode\n",
    "model.eval()\n",
    "likelihood.eval()\n",
    "\n",
    "# Prediction code remains similar; adjust as needed for your specific use case\n"
   ]
  },
  {
   "cell_type": "code",
   "execution_count": 5,
   "metadata": {},
   "outputs": [
    {
     "name": "stdout",
     "output_type": "stream",
     "text": [
      "RF_HM_init_test_train.shape: torch.Size([25116, 40]) RF_HM_init_test_test.shape torch.Size([6279, 40])\n",
      "wheel_state_test_train.shape torch.Size([25116, 3]) wheel_state_test_test.shape: torch.Size([6279, 3])\n"
     ]
    }
   ],
   "source": [
    "autoencoder = mymodel.SmallerFlexibleCNNAutoencoder((1,96,72), bottleneck_size=40).to(device)\n",
    "# Step 3: Train the autoencoder\n",
    "model_path_autoencoder = f'/home/swang597/Documents/Research/Project_heightmap/Model/Autoencoder/SmallerFlexibleCNNAutoencoder/best_model_bottleneck_40_seed21995_epoch4982_loss0.000005.pth'\n",
    "# load the best model\n",
    "autoencoder.load_state_dict(torch.load(model_path_autoencoder))\n",
    "\n",
    "RF_HM_init_test_train = autoencoder.encode(HM_init_test_train.to(device))\n",
    "RF_HM_init_test_test = autoencoder.encode(HM_init_test_test.to(device))\n",
    "\n",
    "wheel_state_test_test = wheel_state_test_test.to(device)\n",
    "wheel_state_test_train = wheel_state_test_train.to(device)\n",
    "\n",
    "print(\"RF_HM_init_test_train.shape:\",RF_HM_init_test_train.shape, \"RF_HM_init_test_test.shape\",RF_HM_init_test_test.shape)\n",
    "print(\"wheel_state_test_train.shape\",wheel_state_test_train.shape,\"wheel_state_test_test.shape:\",wheel_state_test_test.shape)"
   ]
  },
  {
   "cell_type": "code",
   "execution_count": 6,
   "metadata": {},
   "outputs": [
    {
     "name": "stdout",
     "output_type": "stream",
     "text": [
      "input_features_train.shape torch.Size([25116, 43]) input_features_test.shape torch.Size([6279, 43])\n"
     ]
    }
   ],
   "source": [
    "input_features_train = torch.cat((RF_HM_init_test_train, wheel_state_test_train), dim=1)\n",
    "input_features_test = torch.cat((RF_HM_init_test_test, wheel_state_test_test), dim=1)\n",
    "# np.concatenate([RF_HM_init_test_train, wheel_state_test_train], axis=1)  # Shape: (num_samples, n + 4)\n",
    "# input_features_test = np.concatenate([RF_HM_init_test_test, wheel_state_test_test], axis=1)  # Shape: (num_samples, n + 4)\n",
    "print(\"input_features_train.shape\",input_features_train.shape, \"input_features_test.shape\", input_features_test.shape)\n",
    "print(\"FN_test_train.shape\",FN_test_train.shape, \"FN_test_test.shape\",FN_test_test.shape)"
   ]
  },
  {
   "cell_type": "code",
   "execution_count": 7,
   "metadata": {},
   "outputs": [
    {
     "name": "stdout",
     "output_type": "stream",
     "text": [
      "FN_test_train.shape torch.Size([25116, 3]) FN_test_test.shape torch.Size([6279, 3])\n"
     ]
    }
   ],
   "source": []
  },
  {
   "cell_type": "code",
   "execution_count": null,
   "metadata": {},
   "outputs": [
    {
     "name": "stdout",
     "output_type": "stream",
     "text": [
      "Iter 1/50 - Loss: 1.237\n",
      "Iter 2/50 - Loss: 1.199\n",
      "Iter 3/50 - Loss: 1.157\n",
      "Iter 4/50 - Loss: 1.113\n",
      "Iter 5/50 - Loss: 1.068\n",
      "Iter 6/50 - Loss: 1.022\n",
      "Iter 7/50 - Loss: 0.977\n",
      "Iter 8/50 - Loss: 0.933\n",
      "Iter 9/50 - Loss: 0.889\n",
      "Iter 10/50 - Loss: 0.848\n",
      "Iter 11/50 - Loss: 0.808\n",
      "Iter 12/50 - Loss: 0.770\n",
      "Iter 13/50 - Loss: 0.732\n",
      "Iter 14/50 - Loss: 0.694\n",
      "Iter 15/50 - Loss: 0.656\n",
      "Iter 16/50 - Loss: 0.618\n",
      "Iter 17/50 - Loss: 0.579\n",
      "Iter 18/50 - Loss: 0.540\n",
      "Iter 19/50 - Loss: 0.500\n",
      "Iter 20/50 - Loss: 0.460\n",
      "Iter 21/50 - Loss: 0.420\n",
      "Iter 22/50 - Loss: 0.380\n",
      "Iter 23/50 - Loss: 0.341\n",
      "Iter 24/50 - Loss: 0.303\n",
      "Iter 25/50 - Loss: 0.266\n",
      "Iter 26/50 - Loss: 0.231\n",
      "Iter 27/50 - Loss: 0.198\n",
      "Iter 28/50 - Loss: 0.167\n",
      "Iter 29/50 - Loss: 0.138\n",
      "Iter 30/50 - Loss: 0.111\n",
      "Iter 31/50 - Loss: 0.085\n",
      "Iter 32/50 - Loss: 0.062\n",
      "Iter 33/50 - Loss: 0.040\n",
      "Iter 34/50 - Loss: 0.020\n",
      "Iter 35/50 - Loss: 0.004\n",
      "Iter 36/50 - Loss: -0.010\n",
      "Iter 37/50 - Loss: -0.020\n",
      "Iter 38/50 - Loss: -0.028\n",
      "Iter 39/50 - Loss: -0.034\n",
      "Iter 40/50 - Loss: -0.037\n",
      "Iter 41/50 - Loss: -0.039\n",
      "Iter 42/50 - Loss: -0.038\n",
      "Iter 43/50 - Loss: -0.037\n",
      "Iter 44/50 - Loss: -0.034\n",
      "Iter 45/50 - Loss: -0.031\n",
      "Iter 46/50 - Loss: -0.028\n",
      "Iter 47/50 - Loss: -0.025\n",
      "Iter 48/50 - Loss: -0.023\n",
      "Iter 49/50 - Loss: -0.021\n",
      "Iter 50/50 - Loss: -0.020\n"
     ]
    },
    {
     "name": "stderr",
     "output_type": "stream",
     "text": [
      "/home/swang597/Documents/Package/anaconda3/envs/pytorch_cuda12.1/lib/python3.10/site-packages/linear_operator/utils/interpolation.py:71: UserWarning: torch.sparse.SparseTensor(indices, values, shape, *, device=) is deprecated.  Please use torch.sparse_coo_tensor(indices, values, shape, dtype=, device=). (Triggered internally at ../torch/csrc/utils/tensor_new.cpp:605.)\n",
      "  summing_matrix = cls(summing_matrix_indices, summing_matrix_values, size)\n"
     ]
    },
    {
     "data": {
      "image/png": "[encoded data removed]",
      "text/plain": [
       "<Figure size 800x300 with 2 Axes>"
      ]
     },
     "metadata": {},
     "output_type": "display_data"
    }
   ],
   "source": [
    "train_x = torch.linspace(0, 1, 100)\n",
    "\n",
    "train_y = torch.stack([\n",
    "    torch.sin(train_x * (2 * math.pi)) + torch.randn(train_x.size()) * 0.2,\n",
    "    torch.cos(train_x * (2 * math.pi)) + torch.randn(train_x.size()) * 0.2,\n",
    "], -1)\n",
    "\n",
    "\n",
    "likelihood = gpytorch.likelihoods.MultitaskGaussianLikelihood(num_tasks=2)\n",
    "model = MultitaskGPModel(train_x, train_y, likelihood)\n",
    "\n",
    "# this is for running the notebook in our testing framework\n",
    "import os\n",
    "smoke_test = ('CI' in os.environ)\n",
    "training_iterations = 2 if smoke_test else 50\n",
    "\n",
    "\n",
    "# Find optimal model hyperparameters\n",
    "model.train()\n",
    "likelihood.train()\n",
    "\n",
    "# Use the adam optimizer\n",
    "optimizer = torch.optim.Adam(model.parameters(), lr=0.1)  # Includes GaussianLikelihood parameters\n",
    "\n",
    "# \"Loss\" for GPs - the marginal log likelihood\n",
    "mll = gpytorch.mlls.ExactMarginalLogLikelihood(likelihood, model)\n",
    "\n",
    "for i in range(training_iterations):\n",
    "    optimizer.zero_grad()\n",
    "    output = model(train_x)\n",
    "    loss = -mll(output, train_y)\n",
    "    loss.backward()\n",
    "    print('Iter %d/%d - Loss: %.3f' % (i + 1, training_iterations, loss.item()))\n",
    "    optimizer.step()\n",
    "\n",
    "# Set into eval mode\n",
    "model.eval()\n",
    "likelihood.eval()\n",
    "\n",
    "# Initialize plots\n",
    "f, (y1_ax, y2_ax) = plt.subplots(1, 2, figsize=(8, 3))\n",
    "\n",
    "# Make predictions\n",
    "with torch.no_grad(), gpytorch.settings.fast_pred_var():\n",
    "    test_x = torch.linspace(0, 1, 51)\n",
    "    predictions = likelihood(model(test_x))\n",
    "    mean = predictions.mean\n",
    "    lower, upper = predictions.confidence_region()\n",
    "\n",
    "# This contains predictions for both tasks, flattened out\n",
    "# The first half of the predictions is for the first task\n",
    "# The second half is for the second task\n"
   ]
  },
  {
   "cell_type": "code",
   "execution_count": null,
   "metadata": {},
   "outputs": [],
   "source": [
    "\n",
    "# Plot training data as black stars\n",
    "y1_ax.plot(train_x.detach().numpy(), train_y[:, 0].detach().numpy(), 'k*')\n",
    "# Predictive mean as blue line\n",
    "y1_ax.plot(test_x.numpy(), mean[:, 0].numpy(), 'b')\n",
    "# Shade in confidence\n",
    "y1_ax.fill_between(test_x.numpy(), lower[:, 0].numpy(), upper[:, 0].numpy(), alpha=0.5)\n",
    "y1_ax.set_ylim([-3, 3])\n",
    "y1_ax.legend(['Observed Data', 'Mean', 'Confidence'])\n",
    "y1_ax.set_title('Observed Values (Likelihood)')\n",
    "\n",
    "# Plot training data as black stars\n",
    "y2_ax.plot(train_x.detach().numpy(), train_y[:, 1].detach().numpy(), 'k*')\n",
    "# Predictive mean as blue line\n",
    "y2_ax.plot(test_x.numpy(), mean[:, 1].numpy(), 'b')\n",
    "# Shade in confidence\n",
    "y2_ax.fill_between(test_x.numpy(), lower[:, 1].numpy(), upper[:, 1].numpy(), alpha=0.5)\n",
    "y2_ax.set_ylim([-3, 3])\n",
    "y2_ax.legend(['Observed Data', 'Mean', 'Confidence'])\n",
    "y2_ax.set_title('Observed Values (Likelihood)')\n",
    "plt.show()"
   ]
  }
 ],
 "metadata": {
  "kernelspec": {
   "display_name": "pytorch_cuda12.1",
   "language": "python",
   "name": "python3"
  },
  "language_info": {
   "codemirror_mode": {
    "name": "ipython",
    "version": 3
   },
   "file_extension": ".py",
   "mimetype": "text/x-python",
   "name": "python",
   "nbconvert_exporter": "python",
   "pygments_lexer": "ipython3",
   "version": "3.10.12"
  }
 },
 "nbformat": 4,
 "nbformat_minor": 2
}
